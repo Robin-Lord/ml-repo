{
 "cells": [
  {
   "cell_type": "markdown",
   "metadata": {},
   "source": []
  },
  {
   "cell_type": "code",
   "execution_count": 1,
   "metadata": {},
   "outputs": [],
   "source": [
    "%load_ext autoreload\n",
    "%autoreload 2"
   ]
  },
  {
   "cell_type": "code",
   "execution_count": 2,
   "metadata": {},
   "outputs": [
    {
     "data": {
      "text/plain": [
       "<module 'experiments.line_progression.loss_lines.data_download.gini_index' from '/app/experiments/line_progression/loss_lines/data_download/gini_index.py'>"
      ]
     },
     "execution_count": 2,
     "metadata": {},
     "output_type": "execute_result"
    }
   ],
   "source": [
    "import importlib # Handle file changes\n",
    "\n",
    "# Manage arrays of numbers\n",
    "import numpy as np\n",
    "\n",
    "\n",
    "# Internal imports\n",
    "from src.manual_model_building.models.regression import linear_and_polynomial\n",
    "\n",
    "from src.experiments.line_progression.loss_lines.data.load import gini_index\n",
    "\n",
    "from  experiments.line_progression.loss_lines.visualisation import training_visualisation\n",
    "\n",
    "# Reload the modules to pick up changes\n",
    "importlib.reload(linear_and_polynomial) \n",
    "importlib.reload(gini_index)"
   ]
  },
  {
   "cell_type": "code",
   "execution_count": 3,
   "metadata": {},
   "outputs": [],
   "source": [
    "gini_index_data = gini_index.fetch_gini_index_data()\n",
    "\n",
    "# Separate data\n",
    "X = gini_index_data[[\"Year\"]].values\n",
    "y = gini_index_data[[\"Gini Index\"]].values\n",
    "\n",
    "\n",
    "# Set polynomial degree to fit\n",
    "degree = 4"
   ]
  },
  {
   "cell_type": "markdown",
   "metadata": {},
   "source": [
    "# Plot US Gini Index"
   ]
  },
  {
   "cell_type": "code",
   "execution_count": 4,
   "metadata": {},
   "outputs": [],
   "source": [
    "#@title Plot US Gini Index\n",
    "\n",
    "# Gradient Descent settings\n",
    "learning_rate = 0.05  # Adjust as needed for convergence\n",
    "n_iterations = 1000\n",
    "\n",
    "\n",
    "\n",
    "# Plot gradient descent\n",
    "final_predicted_line, final_weights, training_history = (\n",
    "    linear_and_polynomial.fit_linear_and_polynomial_regression(\n",
    "        X = X, \n",
    "        y=y,\n",
    "        learning_rate=learning_rate,\n",
    "        n_iterations=n_iterations,\n",
    "        polynomial_degree=3,\n",
    "        return_full_train=True\n",
    "        )\n",
    ")"
   ]
  },
  {
   "cell_type": "code",
   "execution_count": 5,
   "metadata": {},
   "outputs": [
    {
     "data": {
      "text/plain": [
       "array([[2022],\n",
       "       [2021],\n",
       "       [2020],\n",
       "       [2019],\n",
       "       [2018],\n",
       "       [2017],\n",
       "       [2016],\n",
       "       [2015],\n",
       "       [2014],\n",
       "       [2013],\n",
       "       [2012],\n",
       "       [2011],\n",
       "       [2010],\n",
       "       [2009],\n",
       "       [2008],\n",
       "       [2007],\n",
       "       [2006],\n",
       "       [2005],\n",
       "       [2004],\n",
       "       [2003],\n",
       "       [2002],\n",
       "       [2001],\n",
       "       [2000],\n",
       "       [1999],\n",
       "       [1998],\n",
       "       [1997],\n",
       "       [1996],\n",
       "       [1995],\n",
       "       [1994],\n",
       "       [1993],\n",
       "       [1992],\n",
       "       [1991],\n",
       "       [1990],\n",
       "       [1989],\n",
       "       [1988],\n",
       "       [1987],\n",
       "       [1986],\n",
       "       [1985],\n",
       "       [1984],\n",
       "       [1983],\n",
       "       [1982],\n",
       "       [1981],\n",
       "       [1980],\n",
       "       [1979],\n",
       "       [1978],\n",
       "       [1977],\n",
       "       [1976],\n",
       "       [1975],\n",
       "       [1974],\n",
       "       [1973],\n",
       "       [1972],\n",
       "       [1971],\n",
       "       [1970],\n",
       "       [1969],\n",
       "       [1968],\n",
       "       [1967],\n",
       "       [1966],\n",
       "       [1965],\n",
       "       [1964],\n",
       "       [1963]])"
      ]
     },
     "execution_count": 5,
     "metadata": {},
     "output_type": "execute_result"
    }
   ],
   "source": [
    "X"
   ]
  },
  {
   "cell_type": "markdown",
   "metadata": {},
   "source": [
    "## Generate consistent charts"
   ]
  },
  {
   "cell_type": "code",
   "execution_count": 6,
   "metadata": {},
   "outputs": [
    {
     "name": "stderr",
     "output_type": "stream",
     "text": [
      "/app/experiments/line_progression/loss_lines/visualisation/training_visualisation.py:68: UserWarning: No artists with labels found to put in legend.  Note that artists whose label start with an underscore are ignored when legend() is called with no argument.\n",
      "  plt.legend()\n"
     ]
    }
   ],
   "source": [
    "# # Call the function to produce each image\n",
    "# training_visualisation.display_line_fit(\n",
    "#     training_history,\n",
    "#     final_predicted_line,\n",
    "#     original_y=y,\n",
    "#     show_original_data=False,\n",
    "#     show_axes=False,\n",
    "#     save_name=\"plot1\",\n",
    "#     background_color=\"black\"\n",
    "# )\n",
    "# training_visualisation.display_line_fit(\n",
    "#     training_history,\n",
    "#     final_predicted_line,\n",
    "#     original_y=y,\n",
    "#     show_original_data=True,\n",
    "#     show_axes=False,\n",
    "#     save_name=\"plot2\",\n",
    "#     background_color=\"black\"\n",
    "# )\n",
    "training_visualisation.display_line_fit(\n",
    "    training_history,\n",
    "    final_predicted_line,\n",
    "    X=X,\n",
    "    original_y=y,\n",
    "    show_original_data=True,\n",
    "    show_axes=True,\n",
    "    save_name=\"plot3\",\n",
    "    background_color=\"white\",\n",
    "    training_col = \"black\",\n",
    "    final_line_col=\"gold\"\n",
    ")"
   ]
  },
  {
   "cell_type": "code",
   "execution_count": 7,
   "metadata": {},
   "outputs": [],
   "source": [
    "# plt.figure(figsize=(12, 8))\n",
    "# plt.style.use('dark_background')  # Set the dark background\n",
    "\n",
    "# # Loop through training steps and plot them on the chart\n",
    "# for (cost, prediction) in training_history:\n",
    "#     plt.plot(prediction, \"white\", alpha = 0.2)\n",
    "\n",
    "# plt.plot(final_predicted_line, \"white\", alpha = 0.9)\n",
    "\n",
    "\n",
    "# plt.plot(y, \"o\", color=\"gold\", markersize=5)\n",
    "\n",
    "# # Hide axes and surrounding box\n",
    "# plt.axis('off')\n",
    "# plt.gca().set_position([0, 0, 1, 1])  # Remove margins around the plot\n",
    "# plt.legend()\n",
    "# plt.show()"
   ]
  },
  {
   "cell_type": "code",
   "execution_count": null,
   "metadata": {},
   "outputs": [],
   "source": []
  }
 ],
 "metadata": {
  "kernelspec": {
   "display_name": "Python 3",
   "language": "python",
   "name": "python3"
  },
  "language_info": {
   "codemirror_mode": {
    "name": "ipython",
    "version": 3
   },
   "file_extension": ".py",
   "mimetype": "text/x-python",
   "name": "python",
   "nbconvert_exporter": "python",
   "pygments_lexer": "ipython3",
   "version": "3.11.9"
  }
 },
 "nbformat": 4,
 "nbformat_minor": 2
}
